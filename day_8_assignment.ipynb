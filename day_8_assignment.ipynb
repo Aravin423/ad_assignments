{
  "nbformat": 4,
  "nbformat_minor": 0,
  "metadata": {
    "colab": {
      "provenance": [],
      "authorship_tag": "ABX9TyNG2ZphC35avEAhNOf3O48i",
      "include_colab_link": true
    },
    "kernelspec": {
      "name": "python3",
      "display_name": "Python 3"
    },
    "language_info": {
      "name": "python"
    }
  },
  "cells": [
    {
      "cell_type": "markdown",
      "metadata": {
        "id": "view-in-github",
        "colab_type": "text"
      },
      "source": [
        "<a href=\"https://colab.research.google.com/github/Aravin423/ad_assignments/blob/main/day_8_assignment.ipynb\" target=\"_parent\"><img src=\"https://colab.research.google.com/assets/colab-badge.svg\" alt=\"Open In Colab\"/></a>"
      ]
    },
    {
      "cell_type": "code",
      "execution_count": 2,
      "metadata": {
        "colab": {
          "base_uri": "https://localhost:8080/"
        },
        "id": "Q3R3pWv8NLaL",
        "outputId": "4f91260d-d70f-402a-f3de-75f537bc1041"
      },
      "outputs": [
        {
          "output_type": "stream",
          "name": "stdout",
          "text": [
            "Rows where sales are greater than 1000:\n",
            "          Date     Product Region    Sales  Profit  Quantity\n",
            "0   2023-01-02      Tablet   East  1061.81  236.12         7\n",
            "1   2023-01-06      Laptop  North  1926.07  246.34         8\n",
            "2   2023-01-03      Tablet   East  1597.99  253.17         3\n",
            "3   2023-01-20      Tablet  North  1397.99  242.23         1\n",
            "7   2023-01-07  Smartphone   East  1799.26  364.97         4\n",
            "8   2023-01-11  Smartphone   West  1401.67  306.24         2\n",
            "9   2023-01-01      Laptop  North  1562.11  170.72         6\n",
            "11  2023-01-12      Laptop   West  1954.86  262.16         4\n",
            "12  2023-01-09     Monitor  North  1748.66  197.62         6\n",
            "17  2023-01-18     Monitor   West  1287.13  153.86         7\n",
            "18  2023-01-13      Tablet   West  1147.92  271.88         9\n",
            "\n",
            "Sales records for the 'East' region:\n",
            "          Date     Product Region    Sales  Profit  Quantity\n",
            "0   2023-01-02      Tablet   East  1061.81  236.12         7\n",
            "2   2023-01-03      Tablet   East  1597.99  253.17         3\n",
            "6   2023-01-14    Keyboard   East   587.13   82.16         8\n",
            "7   2023-01-07  Smartphone   East  1799.26  364.97         4\n",
            "14  2023-01-08      Laptop   East   772.74  226.51         2\n",
            "\n",
            "DataFrame with Profit_Per_Unit column added:\n",
            "         Date Product Region    Sales  Profit  Quantity  Profit_Per_Unit\n",
            "0  2023-01-02  Tablet   East  1061.81  236.12         7        33.731429\n",
            "1  2023-01-06  Laptop  North  1926.07  246.34         8        30.792500\n",
            "2  2023-01-03  Tablet   East  1597.99  253.17         3        84.390000\n",
            "3  2023-01-20  Tablet  North  1397.99  242.23         1       242.230000\n",
            "4  2023-01-04  Laptop   West   734.03  140.36         4        35.090000\n",
            "\n",
            "DataFrame with High_Sales column added:\n",
            "         Date Product Region    Sales  Profit  Quantity  Profit_Per_Unit  \\\n",
            "0  2023-01-02  Tablet   East  1061.81  236.12         7        33.731429   \n",
            "1  2023-01-06  Laptop  North  1926.07  246.34         8        30.792500   \n",
            "2  2023-01-03  Tablet   East  1597.99  253.17         3        84.390000   \n",
            "3  2023-01-20  Tablet  North  1397.99  242.23         1       242.230000   \n",
            "4  2023-01-04  Laptop   West   734.03  140.36         4        35.090000   \n",
            "\n",
            "  High_Sales  \n",
            "0        Yes  \n",
            "1        Yes  \n",
            "2        Yes  \n",
            "3        Yes  \n",
            "4         No  \n"
          ]
        }
      ],
      "source": [
        "import pandas as pd\n",
        "\n",
        "df = pd.read_csv('Day_8_sales_data.csv')\n",
        "\n",
        "sales_greater_than_1000 = df[df['Sales'] > 1000]\n",
        "print(\"Rows where sales are greater than 1000:\")\n",
        "print(sales_greater_than_1000)\n",
        "\n",
        "region_sales = df[df['Region'] == 'East']\n",
        "print(\"\\nSales records for the 'East' region:\")\n",
        "print(region_sales)\n",
        "\n",
        "df['Profit_Per_Unit'] = df['Profit'] / df['Quantity']\n",
        "print(\"\\nDataFrame with Profit_Per_Unit column added:\")\n",
        "print(df.head())\n",
        "\n",
        "df['High_Sales'] = df['Sales'].apply(lambda x: 'Yes' if x > 1000 else 'No')\n",
        "print(\"\\nDataFrame with High_Sales column added:\")\n",
        "print(df.head())\n"
      ]
    },
    {
      "cell_type": "code",
      "source": [],
      "metadata": {
        "id": "GdKbyiaWNmng"
      },
      "execution_count": null,
      "outputs": []
    }
  ]
}
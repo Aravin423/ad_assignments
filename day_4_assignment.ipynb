{
  "nbformat": 4,
  "nbformat_minor": 0,
  "metadata": {
    "colab": {
      "provenance": [],
      "authorship_tag": "ABX9TyN8acj6p/10AkQZ4XnA7L6Q",
      "include_colab_link": true
    },
    "kernelspec": {
      "name": "python3",
      "display_name": "Python 3"
    },
    "language_info": {
      "name": "python"
    }
  },
  "cells": [
    {
      "cell_type": "markdown",
      "metadata": {
        "id": "view-in-github",
        "colab_type": "text"
      },
      "source": [
        "<a href=\"https://colab.research.google.com/github/Aravin423/ad_assignments/blob/main/day_4_assignment.ipynb\" target=\"_parent\"><img src=\"https://colab.research.google.com/assets/colab-badge.svg\" alt=\"Open In Colab\"/></a>"
      ]
    },
    {
      "cell_type": "code",
      "execution_count": 1,
      "metadata": {
        "colab": {
          "base_uri": "https://localhost:8080/"
        },
        "id": "YmxMJPTJG6wi",
        "outputId": "258fa349-934a-45b0-cb8f-ba44c38fa9ba"
      },
      "outputs": [
        {
          "output_type": "stream",
          "name": "stdout",
          "text": [
            "Enter a positive integer: 2\n",
            "The sum of all even numbers between 1 and 2 is: 2\n"
          ]
        }
      ],
      "source": [
        "def sum_of_even_numbers(n):\n",
        "    total = 0\n",
        "    for number in range(1, n + 1):\n",
        "        if number % 2 == 0:\n",
        "            total += number\n",
        "    return total\n",
        "\n",
        "n = int(input(\"Enter a positive integer: \"))\n",
        "\n",
        "sum_even = sum_of_even_numbers(n)\n",
        "print(f\"The sum of all even numbers between 1 and {n} is: {sum_even}\")\n"
      ]
    }
  ]
}
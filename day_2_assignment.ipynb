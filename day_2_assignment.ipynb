{
  "nbformat": 4,
  "nbformat_minor": 0,
  "metadata": {
    "colab": {
      "provenance": [],
      "authorship_tag": "ABX9TyOseeHNo6sAoORvrSenTC0d",
      "include_colab_link": true
    },
    "kernelspec": {
      "name": "python3",
      "display_name": "Python 3"
    },
    "language_info": {
      "name": "python"
    }
  },
  "cells": [
    {
      "cell_type": "markdown",
      "metadata": {
        "id": "view-in-github",
        "colab_type": "text"
      },
      "source": [
        "<a href=\"https://colab.research.google.com/github/Aravin423/ad_assignments/blob/main/day_2_assignment.ipynb\" target=\"_parent\"><img src=\"https://colab.research.google.com/assets/colab-badge.svg\" alt=\"Open In Colab\"/></a>"
      ]
    },
    {
      "cell_type": "code",
      "execution_count": 2,
      "metadata": {
        "colab": {
          "base_uri": "https://localhost:8080/"
        },
        "id": "lEx6bABIDAya",
        "outputId": "7c1f2dbb-aeb8-4253-d703-52029d331996"
      },
      "outputs": [
        {
          "output_type": "stream",
          "name": "stdout",
          "text": [
            "List: [10, 20, 30, 40, 50]\n",
            "First element: 10\n",
            "Third element: 30\n",
            "Last element: 50\n"
          ]
        }
      ],
      "source": [
        "my_list = [10, 20, 30, 40, 50]\n",
        "\n",
        "first_element = my_list[0]\n",
        "third_element = my_list[2]\n",
        "last_element =  my_list[-1]\n",
        "print(\"List:\", my_list)\n",
        "print(\"First element:\", first_element)\n",
        "print(\"Third element:\", third_element)\n",
        "print(\"Last element:\", last_element)\n"
      ]
    },
    {
      "cell_type": "code",
      "source": [
        "my_tuple = (100, 200, 300, 400, 500)\n",
        "\n",
        "second_element = my_tuple[1]\n",
        "fourth_element = my_tuple[3]\n",
        "print(\"Tuple:\", my_tuple)\n",
        "print(\"Second element:\", second_element)\n",
        "print(\"Fourth element:\", fourth_element)\n"
      ],
      "metadata": {
        "colab": {
          "base_uri": "https://localhost:8080/"
        },
        "id": "Bojx18MeDbrS",
        "outputId": "c74d0fb7-f993-476b-c997-fb043f6f56c3"
      },
      "execution_count": 3,
      "outputs": [
        {
          "output_type": "stream",
          "name": "stdout",
          "text": [
            "Tuple: (100, 200, 300, 400, 500)\n",
            "Second element: 200\n",
            "Fourth element: 400\n"
          ]
        }
      ]
    },
    {
      "cell_type": "code",
      "source": [
        "my_dict = {\n",
        "    \"name\": \"Alice\",\n",
        "    \"age\": 25,\n",
        "    \"city\": \"New York\",\n",
        "    \"job\": \"Engineer\",\n",
        "    \"hobby\": \"Reading\"\n",
        "}\n",
        "\n",
        "name = my_dict[\"name\"]\n",
        "age = my_dict[\"age\"]\n",
        "print(\"Name:\", name)\n",
        "print(\"Age:\", age)\n"
      ],
      "metadata": {
        "colab": {
          "base_uri": "https://localhost:8080/"
        },
        "id": "pfU3vwLoDkt_",
        "outputId": "61d6c40d-a8f1-4c9d-f492-d5ef1f95d574"
      },
      "execution_count": 4,
      "outputs": [
        {
          "output_type": "stream",
          "name": "stdout",
          "text": [
            "Name: Alice\n",
            "Age: 25\n"
          ]
        }
      ]
    }
  ]
}
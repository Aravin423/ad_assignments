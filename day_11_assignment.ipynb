{
  "nbformat": 4,
  "nbformat_minor": 0,
  "metadata": {
    "colab": {
      "provenance": [],
      "authorship_tag": "ABX9TyNZzFVoavVSS6ktLCPeiM6B",
      "include_colab_link": true
    },
    "kernelspec": {
      "name": "python3",
      "display_name": "Python 3"
    },
    "language_info": {
      "name": "python"
    }
  },
  "cells": [
    {
      "cell_type": "markdown",
      "metadata": {
        "id": "view-in-github",
        "colab_type": "text"
      },
      "source": [
        "<a href=\"https://colab.research.google.com/github/Aravin423/ad_assignments/blob/main/day_11_assignment.ipynb\" target=\"_parent\"><img src=\"https://colab.research.google.com/assets/colab-badge.svg\" alt=\"Open In Colab\"/></a>"
      ]
    },
    {
      "cell_type": "code",
      "execution_count": 1,
      "metadata": {
        "colab": {
          "base_uri": "https://localhost:8080/"
        },
        "id": "9y9M8cSOTYsN",
        "outputId": "0ae7d07f-22ed-4aee-d8a0-dcf5be62a6a0"
      },
      "outputs": [
        {
          "output_type": "stream",
          "name": "stdout",
          "text": [
            "First 10 rows sorted by Account_Balance in descending order:\n",
            "          Date       Account_Type    Branch Transaction_Type  \\\n",
            "15  2023-01-03            Savings  Suburban   Service Charge   \n",
            "8   2023-01-20  Recurring Deposit  Downtown   Service Charge   \n",
            "2   2023-01-10            Current    Uptown     Loan Payment   \n",
            "7   2023-01-09            Current   Central     Loan Payment   \n",
            "17  2023-01-07            Current   Central     Loan Payment   \n",
            "1   2023-01-16            Current    Uptown       Withdrawal   \n",
            "19  2023-01-17            Savings   Central          Deposit   \n",
            "18  2023-01-12  Recurring Deposit  Suburban   Service Charge   \n",
            "16  2023-01-02      Fixed Deposit   Central          Deposit   \n",
            "14  2023-01-01      Fixed Deposit  Downtown       Withdrawal   \n",
            "\n",
            "    Transaction_Amount  Account_Balance  \n",
            "15             3350.32         12836.51  \n",
            "8              3899.98         12646.56  \n",
            "2              3363.85         12428.67  \n",
            "7              2346.72         10708.85  \n",
            "17             4116.52          9785.64  \n",
            "1               641.43          8908.39  \n",
            "19             4516.52          8789.19  \n",
            "18             1339.57          8666.74  \n",
            "16             4421.57          8330.40  \n",
            "14             4136.54          8175.08  \n",
            "\n",
            "DataFrame with Transaction_Rank column added:\n",
            "         Date       Account_Type    Branch Transaction_Type  \\\n",
            "0  2023-01-19      Fixed Deposit   Central     Loan Payment   \n",
            "1  2023-01-16            Current    Uptown       Withdrawal   \n",
            "2  2023-01-10            Current    Uptown     Loan Payment   \n",
            "3  2023-01-18            Savings    Uptown     Loan Payment   \n",
            "4  2023-01-14  Recurring Deposit  Suburban     Loan Payment   \n",
            "5  2023-01-06            Current  Suburban   Service Charge   \n",
            "6  2023-01-04  Recurring Deposit   Central   Service Charge   \n",
            "7  2023-01-09            Current   Central     Loan Payment   \n",
            "8  2023-01-20  Recurring Deposit  Downtown   Service Charge   \n",
            "9  2023-01-11      Fixed Deposit  Downtown          Deposit   \n",
            "\n",
            "   Transaction_Amount  Account_Balance  Transaction_Rank  \n",
            "0              985.51          6839.59               7.0  \n",
            "1              641.43          8908.39               4.0  \n",
            "2             3363.85         12428.67               1.0  \n",
            "3             1914.60          5776.63               2.0  \n",
            "4             2788.57          4779.04               3.0  \n",
            "5             4584.05          7635.47               1.0  \n",
            "6             1621.82          6465.79               6.0  \n",
            "7             2346.72         10708.85               5.0  \n",
            "8             3899.98         12646.56               2.0  \n",
            "9             1529.59          2592.16               3.0  \n"
          ]
        }
      ],
      "source": [
        "import pandas as pd\n",
        "\n",
        "df = pd.read_csv('Day_11_banking_data.csv')\n",
        "\n",
        "sorted_df = df.sort_values(by='Account_Balance', ascending=False)\n",
        "print(\"First 10 rows sorted by Account_Balance in descending order:\")\n",
        "print(sorted_df.head(10))\n",
        "\n",
        "df['Transaction_Rank'] = df.groupby('Branch')['Transaction_Amount'].rank(ascending=False)\n",
        "print(\"\\nDataFrame with Transaction_Rank column added:\")\n",
        "print(df.head(10))\n"
      ]
    }
  ]
}
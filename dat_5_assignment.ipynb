{
  "nbformat": 4,
  "nbformat_minor": 0,
  "metadata": {
    "colab": {
      "provenance": [],
      "authorship_tag": "ABX9TyNasNvpBRcKTOpBvf74G8QO",
      "include_colab_link": true
    },
    "kernelspec": {
      "name": "python3",
      "display_name": "Python 3"
    },
    "language_info": {
      "name": "python"
    }
  },
  "cells": [
    {
      "cell_type": "markdown",
      "metadata": {
        "id": "view-in-github",
        "colab_type": "text"
      },
      "source": [
        "<a href=\"https://colab.research.google.com/github/Aravin423/ad_assignments/blob/main/dat_5_assignment.ipynb\" target=\"_parent\"><img src=\"https://colab.research.google.com/assets/colab-badge.svg\" alt=\"Open In Colab\"/></a>"
      ]
    },
    {
      "cell_type": "code",
      "execution_count": 1,
      "metadata": {
        "colab": {
          "base_uri": "https://localhost:8080/"
        },
        "id": "wLIrt7RiHoeV",
        "outputId": "9208db11-a459-49c6-b3ad-a994ef8d78c7"
      },
      "outputs": [
        {
          "output_type": "stream",
          "name": "stdout",
          "text": [
            "Enter a positive integer: 2\n",
            "Numbers from 1 to 2\n",
            "1\n",
            "2\n",
            "The sum of all numbers from 1 to 2 is: 3\n"
          ]
        }
      ],
      "source": [
        "n = int(input(\"Enter a positive integer: \"))\n",
        "\n",
        "print(\"Numbers from 1 to\", n)\n",
        "for number in range(1, n + 1):\n",
        "    print(number)\n",
        "\n",
        "sum_of_numbers = 0\n",
        "current_number = 1\n",
        "while current_number <= n:\n",
        "    sum_of_numbers += current_number\n",
        "    current_number += 1\n",
        "\n",
        "print(\"The sum of all numbers from 1 to\", n, \"is:\", sum_of_numbers)\n"
      ]
    },
    {
      "cell_type": "code",
      "source": [
        "def calculate_square(n):\n",
        "    return n ** 2\n",
        "\n",
        "n = int(input(\"Enter a positive integer: \"))\n",
        "\n",
        "result = calculate_square(n)\n",
        "print(f\"The square of {n} is: {result}\")\n"
      ],
      "metadata": {
        "colab": {
          "base_uri": "https://localhost:8080/"
        },
        "id": "qZxVByhjIwCr",
        "outputId": "f2595363-f3f9-47ae-8424-a5f6444445fa"
      },
      "execution_count": 2,
      "outputs": [
        {
          "output_type": "stream",
          "name": "stdout",
          "text": [
            "Enter a positive integer: 4\n",
            "The square of 4 is: 16\n"
          ]
        }
      ]
    }
  ]
}
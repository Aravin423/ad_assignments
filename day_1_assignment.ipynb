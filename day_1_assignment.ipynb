{
  "nbformat": 4,
  "nbformat_minor": 0,
  "metadata": {
    "colab": {
      "provenance": [],
      "authorship_tag": "ABX9TyNPa3M1IUDZnsa7nvVwE420",
      "include_colab_link": true
    },
    "kernelspec": {
      "name": "python3",
      "display_name": "Python 3"
    },
    "language_info": {
      "name": "python"
    }
  },
  "cells": [
    {
      "cell_type": "markdown",
      "metadata": {
        "id": "view-in-github",
        "colab_type": "text"
      },
      "source": [
        "<a href=\"https://colab.research.google.com/github/Aravin423/ad_assignments/blob/main/day_1_assignment.ipynb\" target=\"_parent\"><img src=\"https://colab.research.google.com/assets/colab-badge.svg\" alt=\"Open In Colab\"/></a>"
      ]
    },
    {
      "cell_type": "code",
      "execution_count": 1,
      "metadata": {
        "colab": {
          "base_uri": "https://localhost:8080/"
        },
        "id": "ClKeJMKQAwBP",
        "outputId": "09460d23-3661-4ad7-f270-5968fbd11974"
      },
      "outputs": [
        {
          "output_type": "stream",
          "name": "stdout",
          "text": [
            "Integer variable: 10 Type: <class 'int'>\n",
            "Float variable: 10.5 Type: <class 'float'>\n",
            "String variable: Hello, World! Type: <class 'str'>\n",
            "Boolean variable: True Type: <class 'bool'>\n"
          ]
        }
      ],
      "source": [
        "integer_var = 10\n",
        "float_var = 10.5\n",
        "string_var = \"Hello, World!\"\n",
        "boolean_var = True\n",
        "\n",
        "print(\"Integer variable:\", integer_var, \"Type:\", type(integer_var))\n",
        "print(\"Float variable:\", float_var, \"Type:\", type(float_var))\n",
        "print(\"String variable:\", string_var, \"Type:\", type(string_var))\n",
        "print(\"Boolean variable:\", boolean_var, \"Type:\", type(boolean_var))\n"
      ]
    },
    {
      "cell_type": "code",
      "source": [],
      "metadata": {
        "id": "X26B4dl9CCst"
      },
      "execution_count": null,
      "outputs": []
    }
  ]
}